{
 "cells": [
  {
   "cell_type": "code",
   "execution_count": 14,
   "metadata": {},
   "outputs": [],
   "source": [
    "import pandas as pd\n",
    "import numpy as np\n",
    "import matplotlib.pyplot as plt\n",
    "%matplotlib inline\n",
    "import seaborn as sns"
   ]
  },
  {
   "cell_type": "code",
   "execution_count": 15,
   "metadata": {},
   "outputs": [],
   "source": [
    "import warnings\n",
    "warnings.filterwarnings(\"ignore\")"
   ]
  },
  {
   "cell_type": "markdown",
   "metadata": {},
   "source": [
    "### This Script involved Data pre-processing & Data Analysis Segments."
   ]
  },
  {
   "cell_type": "code",
   "execution_count": 16,
   "metadata": {},
   "outputs": [
    {
     "name": "stdout",
     "output_type": "stream",
     "text": [
      "(2200000, 20)\n"
     ]
    },
    {
     "data": {
      "text/html": [
       "<div>\n",
       "<style scoped>\n",
       "    .dataframe tbody tr th:only-of-type {\n",
       "        vertical-align: middle;\n",
       "    }\n",
       "\n",
       "    .dataframe tbody tr th {\n",
       "        vertical-align: top;\n",
       "    }\n",
       "\n",
       "    .dataframe thead th {\n",
       "        text-align: right;\n",
       "    }\n",
       "</style>\n",
       "<table border=\"1\" class=\"dataframe\">\n",
       "  <thead>\n",
       "    <tr style=\"text-align: right;\">\n",
       "      <th></th>\n",
       "      <th>Unnamed: 0</th>\n",
       "      <th>property_info</th>\n",
       "      <th>address</th>\n",
       "      <th>property_type</th>\n",
       "      <th>owner_name</th>\n",
       "      <th>property_id</th>\n",
       "      <th>address_num_list</th>\n",
       "      <th>floors</th>\n",
       "      <th>house_no</th>\n",
       "      <th>colony_name</th>\n",
       "      <th>ward</th>\n",
       "      <th>zone</th>\n",
       "      <th>mcd_name</th>\n",
       "      <th>owner_type</th>\n",
       "      <th>receipt_no</th>\n",
       "      <th>property_id.1</th>\n",
       "      <th>fin_year</th>\n",
       "      <th>pay_mode</th>\n",
       "      <th>date</th>\n",
       "      <th>amount_paid</th>\n",
       "    </tr>\n",
       "  </thead>\n",
       "  <tbody>\n",
       "    <tr>\n",
       "      <th>0</th>\n",
       "      <td>1</td>\n",
       "      <td>247147318400|Telephone Colony|Vivek Vihar Ward...</td>\n",
       "      <td>186|186 Chota Thakur Dwara Teliwara Shahdara D...</td>\n",
       "      <td>Residential Plotted</td>\n",
       "      <td>Raj Kumar</td>\n",
       "      <td>247147318400</td>\n",
       "      <td>186|186</td>\n",
       "      <td>NaN</td>\n",
       "      <td>186</td>\n",
       "      <td>Telephone Colony</td>\n",
       "      <td>Vivek Vihar</td>\n",
       "      <td>Sh. South</td>\n",
       "      <td>Eastdelhi</td>\n",
       "      <td>ind_owner</td>\n",
       "      <td>NaN</td>\n",
       "      <td>247147318400</td>\n",
       "      <td>2008-09</td>\n",
       "      <td>Na</td>\n",
       "      <td>NaN</td>\n",
       "      <td>NaN</td>\n",
       "    </tr>\n",
       "    <tr>\n",
       "      <th>1</th>\n",
       "      <td>1</td>\n",
       "      <td>247147318400|Telephone Colony|Vivek Vihar Ward...</td>\n",
       "      <td>186|186 Chota Thakur Dwara Teliwara Shahdara D...</td>\n",
       "      <td>Residential Plotted</td>\n",
       "      <td>Raj Kumar</td>\n",
       "      <td>247147318400</td>\n",
       "      <td>186|186</td>\n",
       "      <td>NaN</td>\n",
       "      <td>186</td>\n",
       "      <td>Telephone Colony</td>\n",
       "      <td>Vivek Vihar</td>\n",
       "      <td>Sh. South</td>\n",
       "      <td>Eastdelhi</td>\n",
       "      <td>ind_owner</td>\n",
       "      <td>NaN</td>\n",
       "      <td>247147318400</td>\n",
       "      <td>2009-10</td>\n",
       "      <td>Na</td>\n",
       "      <td>NaN</td>\n",
       "      <td>NaN</td>\n",
       "    </tr>\n",
       "  </tbody>\n",
       "</table>\n",
       "</div>"
      ],
      "text/plain": [
       "   Unnamed: 0                                      property_info  \\\n",
       "0           1  247147318400|Telephone Colony|Vivek Vihar Ward...   \n",
       "1           1  247147318400|Telephone Colony|Vivek Vihar Ward...   \n",
       "\n",
       "                                             address        property_type  \\\n",
       "0  186|186 Chota Thakur Dwara Teliwara Shahdara D...  Residential Plotted   \n",
       "1  186|186 Chota Thakur Dwara Teliwara Shahdara D...  Residential Plotted   \n",
       "\n",
       "  owner_name   property_id address_num_list floors house_no       colony_name  \\\n",
       "0  Raj Kumar  247147318400          186|186    NaN      186  Telephone Colony   \n",
       "1  Raj Kumar  247147318400          186|186    NaN      186  Telephone Colony   \n",
       "\n",
       "           ward        zone   mcd_name owner_type  receipt_no  property_id.1  \\\n",
       "0  Vivek Vihar   Sh. South   Eastdelhi  ind_owner         NaN   247147318400   \n",
       "1  Vivek Vihar   Sh. South   Eastdelhi  ind_owner         NaN   247147318400   \n",
       "\n",
       "  fin_year pay_mode date  amount_paid  \n",
       "0  2008-09       Na  NaN          NaN  \n",
       "1  2009-10       Na  NaN          NaN  "
      ]
     },
     "execution_count": 16,
     "metadata": {},
     "output_type": "execute_result"
    }
   ],
   "source": [
    "propert_da=pd.read_csv('tax_file1.csv')\n",
    "print(propert_da.shape)\n",
    "propert_da.head(2)"
   ]
  },
  {
   "cell_type": "markdown",
   "metadata": {},
   "source": [
    "### Deep Copy of Database \n",
    "(Modifications to the data or indices of the copy will not be reflected in the original object)"
   ]
  },
  {
   "cell_type": "code",
   "execution_count": 24,
   "metadata": {},
   "outputs": [],
   "source": [
    "property_data= propert_da.copy(deep=True)"
   ]
  },
  {
   "cell_type": "code",
   "execution_count": 25,
   "metadata": {},
   "outputs": [
    {
     "data": {
      "text/plain": [
       "(2200000, 20)"
      ]
     },
     "execution_count": 25,
     "metadata": {},
     "output_type": "execute_result"
    }
   ],
   "source": [
    "property_data.shape"
   ]
  },
  {
   "cell_type": "markdown",
   "metadata": {},
   "source": [
    "### a:) If Dataset is Consisting duplicate Rows so removing those rows"
   ]
  },
  {
   "cell_type": "code",
   "execution_count": 26,
   "metadata": {},
   "outputs": [
    {
     "data": {
      "text/plain": [
       "(2200000, 20)"
      ]
     },
     "execution_count": 26,
     "metadata": {},
     "output_type": "execute_result"
    }
   ],
   "source": [
    "property_data.drop_duplicates( keep='first',inplace=True) \n",
    "property_data.shape"
   ]
  },
  {
   "cell_type": "markdown",
   "metadata": {},
   "source": [
    "### b:) Checking for null values"
   ]
  },
  {
   "cell_type": "code",
   "execution_count": 27,
   "metadata": {},
   "outputs": [
    {
     "name": "stdout",
     "output_type": "stream",
     "text": [
      "<class 'pandas.core.frame.DataFrame'>\n",
      "Int64Index: 2200000 entries, 0 to 2199999\n",
      "Data columns (total 20 columns):\n",
      "Unnamed: 0          int64\n",
      "property_info       object\n",
      "address             object\n",
      "property_type       object\n",
      "owner_name          object\n",
      "property_id         int64\n",
      "address_num_list    object\n",
      "floors              object\n",
      "house_no            object\n",
      "colony_name         object\n",
      "ward                object\n",
      "zone                object\n",
      "mcd_name            object\n",
      "owner_type          object\n",
      "receipt_no          float64\n",
      "property_id.1       int64\n",
      "fin_year            object\n",
      "pay_mode            object\n",
      "date                object\n",
      "amount_paid         float64\n",
      "dtypes: float64(2), int64(3), object(15)\n",
      "memory usage: 352.5+ MB\n"
     ]
    }
   ],
   "source": [
    "property_data.info()"
   ]
  },
  {
   "cell_type": "code",
   "execution_count": 28,
   "metadata": {},
   "outputs": [],
   "source": [
    "# Dropping unncesery columns which will have no relevence for Data analysis on This DataSet\n",
    "\n",
    "property_data=property_data.drop(['property_id','address','owner_name','floors','Unnamed: 0','receipt_no'\n",
    "                                  ,'property_id.1','address_num_list','house_no'],axis=1)"
   ]
  },
  {
   "cell_type": "code",
   "execution_count": 29,
   "metadata": {},
   "outputs": [
    {
     "data": {
      "text/plain": [
       "(2200000, 11)"
      ]
     },
     "execution_count": 29,
     "metadata": {},
     "output_type": "execute_result"
    }
   ],
   "source": [
    "property_data.shape"
   ]
  },
  {
   "cell_type": "markdown",
   "metadata": {},
   "source": [
    "###  * Handling NULL values"
   ]
  },
  {
   "cell_type": "code",
   "execution_count": 30,
   "metadata": {},
   "outputs": [
    {
     "data": {
      "text/plain": [
       "property_info          0\n",
       "property_type        948\n",
       "colony_name            0\n",
       "ward              761844\n",
       "zone              761844\n",
       "mcd_name               0\n",
       "owner_type             0\n",
       "fin_year               0\n",
       "pay_mode               0\n",
       "date             1740650\n",
       "amount_paid      1740457\n",
       "dtype: int64"
      ]
     },
     "execution_count": 30,
     "metadata": {},
     "output_type": "execute_result"
    }
   ],
   "source": [
    "property_data.isnull().sum()"
   ]
  },
  {
   "cell_type": "code",
   "execution_count": 87,
   "metadata": {},
   "outputs": [],
   "source": [
    "#  What kind of Property is this :\n",
    "property_data['property_type'].fillna(\"Empty_space_or_no_information\", inplace = True) "
   ]
  },
  {
   "cell_type": "code",
   "execution_count": 88,
   "metadata": {},
   "outputs": [],
   "source": [
    "# Total number of Numerical values in address\n",
    "property_data['amount_paid'].fillna(\"00\",inplace=True)"
   ]
  },
  {
   "cell_type": "code",
   "execution_count": 89,
   "metadata": {},
   "outputs": [],
   "source": [
    "property_data['date'].fillna(\"00\",inplace=True)"
   ]
  },
  {
   "cell_type": "code",
   "execution_count": 90,
   "metadata": {},
   "outputs": [
    {
     "data": {
      "text/plain": [
       "property_info         0\n",
       "property_type         0\n",
       "colony_name           0\n",
       "ward             761844\n",
       "zone             761844\n",
       "mcd_name              0\n",
       "owner_type            0\n",
       "fin_year              0\n",
       "pay_mode              0\n",
       "date                  0\n",
       "amount_paid           0\n",
       "dtype: int64"
      ]
     },
     "execution_count": 90,
     "metadata": {},
     "output_type": "execute_result"
    }
   ],
   "source": [
    "property_data.isnull().sum()"
   ]
  },
  {
   "cell_type": "code",
   "execution_count": 27,
   "metadata": {},
   "outputs": [
    {
     "data": {
      "text/html": [
       "<div>\n",
       "<style scoped>\n",
       "    .dataframe tbody tr th:only-of-type {\n",
       "        vertical-align: middle;\n",
       "    }\n",
       "\n",
       "    .dataframe tbody tr th {\n",
       "        vertical-align: top;\n",
       "    }\n",
       "\n",
       "    .dataframe thead th {\n",
       "        text-align: right;\n",
       "    }\n",
       "</style>\n",
       "<table border=\"1\" class=\"dataframe\">\n",
       "  <thead>\n",
       "    <tr style=\"text-align: right;\">\n",
       "      <th></th>\n",
       "      <th>property_info</th>\n",
       "      <th>property_type</th>\n",
       "      <th>colony_name</th>\n",
       "      <th>ward</th>\n",
       "      <th>zone</th>\n",
       "      <th>mcd_name</th>\n",
       "      <th>owner_type</th>\n",
       "      <th>fin_year</th>\n",
       "      <th>pay_mode</th>\n",
       "      <th>date</th>\n",
       "      <th>amount_paid</th>\n",
       "    </tr>\n",
       "  </thead>\n",
       "  <tbody>\n",
       "    <tr>\n",
       "      <th>0</th>\n",
       "      <td>247147318400|Telephone Colony|Vivek Vihar Ward...</td>\n",
       "      <td>Residential Plotted</td>\n",
       "      <td>Telephone Colony</td>\n",
       "      <td>Vivek Vihar</td>\n",
       "      <td>Sh. South</td>\n",
       "      <td>Eastdelhi</td>\n",
       "      <td>ind_owner</td>\n",
       "      <td>2008-09</td>\n",
       "      <td>Na</td>\n",
       "      <td>00</td>\n",
       "      <td>00</td>\n",
       "    </tr>\n",
       "    <tr>\n",
       "      <th>1</th>\n",
       "      <td>247147318400|Telephone Colony|Vivek Vihar Ward...</td>\n",
       "      <td>Residential Plotted</td>\n",
       "      <td>Telephone Colony</td>\n",
       "      <td>Vivek Vihar</td>\n",
       "      <td>Sh. South</td>\n",
       "      <td>Eastdelhi</td>\n",
       "      <td>ind_owner</td>\n",
       "      <td>2009-10</td>\n",
       "      <td>Na</td>\n",
       "      <td>00</td>\n",
       "      <td>00</td>\n",
       "    </tr>\n",
       "  </tbody>\n",
       "</table>\n",
       "</div>"
      ],
      "text/plain": [
       "                                       property_info        property_type  \\\n",
       "0  247147318400|Telephone Colony|Vivek Vihar Ward...  Residential Plotted   \n",
       "1  247147318400|Telephone Colony|Vivek Vihar Ward...  Residential Plotted   \n",
       "\n",
       "        colony_name          ward        zone   mcd_name owner_type fin_year  \\\n",
       "0  Telephone Colony  Vivek Vihar   Sh. South   Eastdelhi  ind_owner  2008-09   \n",
       "1  Telephone Colony  Vivek Vihar   Sh. South   Eastdelhi  ind_owner  2009-10   \n",
       "\n",
       "  pay_mode date amount_paid  \n",
       "0       Na   00          00  \n",
       "1       Na   00          00  "
      ]
     },
     "execution_count": 27,
     "metadata": {},
     "output_type": "execute_result"
    }
   ],
   "source": [
    "property_data.head(2)"
   ]
  },
  {
   "cell_type": "markdown",
   "metadata": {},
   "source": [
    "* Now Filling Ward Values to Ward Columns becasue In ward Column a large amount of Values are having \" Ward\" Values which is having no significance\n",
    "* Appending the values from Colony Name adding ward at the end"
   ]
  },
  {
   "cell_type": "code",
   "execution_count": 91,
   "metadata": {},
   "outputs": [
    {
     "name": "stdout",
     "output_type": "stream",
     "text": [
      "<class 'pandas.core.series.Series'>\n"
     ]
    },
    {
     "data": {
      "text/plain": [
       "(2200000, 4)"
      ]
     },
     "execution_count": 91,
     "metadata": {},
     "output_type": "execute_result"
    }
   ],
   "source": [
    "# creating new dataframe and spliting property_info Column and assigning its values to dataframe\n",
    "df=[]\n",
    "ward_new=property_data['property_info']\n",
    "print(type(ward_new))\n",
    "df=pd.DataFrame(df,columns=['First','Last','ward','zone'])\n",
    "df[['First','Last','ward','zone']] = ward_new.str.split(\"|\", n = 4, expand = True)\n",
    "df.shape"
   ]
  },
  {
   "cell_type": "code",
   "execution_count": 92,
   "metadata": {},
   "outputs": [
    {
     "data": {
      "text/plain": [
       " Ward                 327647\n",
       "Pahar Ganj Ward       156932\n",
       "Rohtas Nagar Ward     133004\n",
       "Chandni chowk Ward    126005\n",
       "Mandawali Ward        122212\n",
       "Name: ward, dtype: int64"
      ]
     },
     "execution_count": 92,
     "metadata": {},
     "output_type": "execute_result"
    }
   ],
   "source": [
    "property_data['zone']=df['zone'].values\n",
    "property_data['ward']=df['ward'].values\n",
    "property_data['ward'].value_counts()[:5]"
   ]
  },
  {
   "cell_type": "code",
   "execution_count": 93,
   "metadata": {},
   "outputs": [],
   "source": [
    "ward = property_data[property_data['ward'] == ' Ward']\n",
    "ward['ward'] = ward['colony_name'] + ward['ward']"
   ]
  },
  {
   "cell_type": "code",
   "execution_count": 94,
   "metadata": {},
   "outputs": [
    {
     "data": {
      "text/plain": [
       "Chandni Chowk Ward                            286183\n",
       "Derawal Nagar Ward                             29966\n",
       "Kamla Market Ward                               4213\n",
       "Sameypur Village Ward                           2016\n",
       "GH-13,Paschim Vihar Ward                        1272\n",
       "GH-14,Paschim Vihar Ward                         888\n",
       "Azad Nagar(Kishan Ganj) Ward                     805\n",
       "Katra Asharfi Ward                               684\n",
       "Ratan Nagar Ward                                 648\n",
       "Sheesh Mahal Ward                                276\n",
       "Priyadarshini Ward                               228\n",
       "Railway Colony|Qtrs Nangloi Extension Ward       132\n",
       "Aman Puri, Najafgarh Road Ward                   108\n",
       "Malka Gunj Ward                                   96\n",
       "Bharat vihar Begum Pur Extn Ward                  72\n",
       "Katra Dhobl Ward                                  48\n",
       "Katra Husain Bax Ward                             12\n",
       "Name: ward, dtype: int64"
      ]
     },
     "execution_count": 94,
     "metadata": {},
     "output_type": "execute_result"
    }
   ],
   "source": [
    "ward['ward'].value_counts()"
   ]
  },
  {
   "cell_type": "code",
   "execution_count": 95,
   "metadata": {},
   "outputs": [
    {
     "data": {
      "text/plain": [
       "                    291512\n",
       "Civil Lines Zone     32210\n",
       "Rohini Zone           2472\n",
       "Karol Bagh Zone       1453\n",
       "Name: zone, dtype: int64"
      ]
     },
     "execution_count": 95,
     "metadata": {},
     "output_type": "execute_result"
    }
   ],
   "source": [
    "ward['zone'].value_counts()"
   ]
  },
  {
   "cell_type": "code",
   "execution_count": 96,
   "metadata": {},
   "outputs": [
    {
     "data": {
      "text/html": [
       "<div>\n",
       "<style scoped>\n",
       "    .dataframe tbody tr th:only-of-type {\n",
       "        vertical-align: middle;\n",
       "    }\n",
       "\n",
       "    .dataframe tbody tr th {\n",
       "        vertical-align: top;\n",
       "    }\n",
       "\n",
       "    .dataframe thead th {\n",
       "        text-align: right;\n",
       "    }\n",
       "</style>\n",
       "<table border=\"1\" class=\"dataframe\">\n",
       "  <thead>\n",
       "    <tr style=\"text-align: right;\">\n",
       "      <th></th>\n",
       "      <th>property_info</th>\n",
       "      <th>property_type</th>\n",
       "      <th>colony_name</th>\n",
       "      <th>ward</th>\n",
       "      <th>zone</th>\n",
       "      <th>mcd_name</th>\n",
       "      <th>owner_type</th>\n",
       "      <th>fin_year</th>\n",
       "      <th>pay_mode</th>\n",
       "      <th>date</th>\n",
       "      <th>amount_paid</th>\n",
       "    </tr>\n",
       "  </thead>\n",
       "  <tbody>\n",
       "    <tr>\n",
       "      <th>1728</th>\n",
       "      <td>086208100278|Chandni Chowk| Ward|</td>\n",
       "      <td>Commercial General</td>\n",
       "      <td>Chandni Chowk</td>\n",
       "      <td>Chandni Chowk Ward</td>\n",
       "      <td></td>\n",
       "      <td>Northdelhi</td>\n",
       "      <td>ind_owner</td>\n",
       "      <td>2008-09</td>\n",
       "      <td>Na</td>\n",
       "      <td>00</td>\n",
       "      <td>00</td>\n",
       "    </tr>\n",
       "    <tr>\n",
       "      <th>1729</th>\n",
       "      <td>086208100278|Chandni Chowk| Ward|</td>\n",
       "      <td>Commercial General</td>\n",
       "      <td>Chandni Chowk</td>\n",
       "      <td>Chandni Chowk Ward</td>\n",
       "      <td></td>\n",
       "      <td>Northdelhi</td>\n",
       "      <td>ind_owner</td>\n",
       "      <td>2009-10</td>\n",
       "      <td>Na</td>\n",
       "      <td>00</td>\n",
       "      <td>00</td>\n",
       "    </tr>\n",
       "    <tr>\n",
       "      <th>1730</th>\n",
       "      <td>086208100278|Chandni Chowk| Ward|</td>\n",
       "      <td>Commercial General</td>\n",
       "      <td>Chandni Chowk</td>\n",
       "      <td>Chandni Chowk Ward</td>\n",
       "      <td></td>\n",
       "      <td>Northdelhi</td>\n",
       "      <td>ind_owner</td>\n",
       "      <td>2010-11</td>\n",
       "      <td>Na</td>\n",
       "      <td>00</td>\n",
       "      <td>00</td>\n",
       "    </tr>\n",
       "    <tr>\n",
       "      <th>1731</th>\n",
       "      <td>086208100278|Chandni Chowk| Ward|</td>\n",
       "      <td>Commercial General</td>\n",
       "      <td>Chandni Chowk</td>\n",
       "      <td>Chandni Chowk Ward</td>\n",
       "      <td></td>\n",
       "      <td>Northdelhi</td>\n",
       "      <td>ind_owner</td>\n",
       "      <td>2011-12</td>\n",
       "      <td>Na</td>\n",
       "      <td>00</td>\n",
       "      <td>00</td>\n",
       "    </tr>\n",
       "    <tr>\n",
       "      <th>1732</th>\n",
       "      <td>086208100278|Chandni Chowk| Ward|</td>\n",
       "      <td>Commercial General</td>\n",
       "      <td>Chandni Chowk</td>\n",
       "      <td>Chandni Chowk Ward</td>\n",
       "      <td></td>\n",
       "      <td>Northdelhi</td>\n",
       "      <td>ind_owner</td>\n",
       "      <td>2012-13</td>\n",
       "      <td>Na</td>\n",
       "      <td>00</td>\n",
       "      <td>00</td>\n",
       "    </tr>\n",
       "  </tbody>\n",
       "</table>\n",
       "</div>"
      ],
      "text/plain": [
       "                          property_info       property_type    colony_name  \\\n",
       "1728  086208100278|Chandni Chowk| Ward|  Commercial General  Chandni Chowk   \n",
       "1729  086208100278|Chandni Chowk| Ward|  Commercial General  Chandni Chowk   \n",
       "1730  086208100278|Chandni Chowk| Ward|  Commercial General  Chandni Chowk   \n",
       "1731  086208100278|Chandni Chowk| Ward|  Commercial General  Chandni Chowk   \n",
       "1732  086208100278|Chandni Chowk| Ward|  Commercial General  Chandni Chowk   \n",
       "\n",
       "                    ward zone    mcd_name owner_type fin_year pay_mode date  \\\n",
       "1728  Chandni Chowk Ward       Northdelhi  ind_owner  2008-09       Na   00   \n",
       "1729  Chandni Chowk Ward       Northdelhi  ind_owner  2009-10       Na   00   \n",
       "1730  Chandni Chowk Ward       Northdelhi  ind_owner  2010-11       Na   00   \n",
       "1731  Chandni Chowk Ward       Northdelhi  ind_owner  2011-12       Na   00   \n",
       "1732  Chandni Chowk Ward       Northdelhi  ind_owner  2012-13       Na   00   \n",
       "\n",
       "     amount_paid  \n",
       "1728          00  \n",
       "1729          00  \n",
       "1730          00  \n",
       "1731          00  \n",
       "1732          00  "
      ]
     },
     "execution_count": 96,
     "metadata": {},
     "output_type": "execute_result"
    }
   ],
   "source": [
    "ward.head()"
   ]
  },
  {
   "cell_type": "code",
   "execution_count": 97,
   "metadata": {
    "scrolled": true
   },
   "outputs": [
    {
     "data": {
      "text/plain": [
       "(327647,)"
      ]
     },
     "execution_count": 97,
     "metadata": {},
     "output_type": "execute_result"
    }
   ],
   "source": [
    "ward['ward'].shape"
   ]
  },
  {
   "cell_type": "code",
   "execution_count": 98,
   "metadata": {},
   "outputs": [
    {
     "data": {
      "text/plain": [
       " Ward                        327647\n",
       "Pahar Ganj Ward              156932\n",
       "Rohtas Nagar Ward            133004\n",
       "Chandni chowk Ward           126005\n",
       "Mandawali Ward               122212\n",
       "                              ...  \n",
       "Dallupra Ward                    36\n",
       "Vasant Kunj Ward                 36\n",
       "Pooth Khurd Ward                 12\n",
       "Kirari Suleman Nagar Ward        12\n",
       "Kanwar Singh Nagar Ward          12\n",
       "Name: ward, Length: 124, dtype: int64"
      ]
     },
     "execution_count": 98,
     "metadata": {},
     "output_type": "execute_result"
    }
   ],
   "source": [
    "property_data['ward'].value_counts()"
   ]
  },
  {
   "cell_type": "code",
   "execution_count": 99,
   "metadata": {},
   "outputs": [
    {
     "data": {
      "text/plain": [
       "False    1806911\n",
       "True      393089\n",
       "Name: zone, dtype: int64"
      ]
     },
     "execution_count": 99,
     "metadata": {},
     "output_type": "execute_result"
    }
   ],
   "source": [
    "property_data['zone'].eq('').value_counts()"
   ]
  },
  {
   "cell_type": "code",
   "execution_count": 100,
   "metadata": {},
   "outputs": [
    {
     "data": {
      "text/plain": [
       "                    393089\n",
       "Karol Bagh Zone     307831\n",
       "Sh. South Zone      300326\n",
       "Civil Lines Zone    190845\n",
       "West Zone           188214\n",
       "Sh. North Zone      187362\n",
       "South Zone          178936\n",
       "Central Zone        129698\n",
       "City - S P Zone     129366\n",
       "Najafgarh Zone       82959\n",
       "Keshavpuram Zone     62893\n",
       "Narela Zone          25052\n",
       "Rohini Zone          23429\n",
       "Name: zone, dtype: int64"
      ]
     },
     "execution_count": 100,
     "metadata": {},
     "output_type": "execute_result"
    }
   ],
   "source": [
    "property_data['zone'].value_counts()"
   ]
  },
  {
   "cell_type": "code",
   "execution_count": 101,
   "metadata": {},
   "outputs": [
    {
     "data": {
      "text/plain": [
       "(327647,)"
      ]
     },
     "execution_count": 101,
     "metadata": {},
     "output_type": "execute_result"
    }
   ],
   "source": [
    "property_data.loc[property_data['ward']==' Ward']['ward'].shape"
   ]
  },
  {
   "cell_type": "code",
   "execution_count": 102,
   "metadata": {},
   "outputs": [
    {
     "data": {
      "text/plain": [
       "393089"
      ]
     },
     "execution_count": 102,
     "metadata": {},
     "output_type": "execute_result"
    }
   ],
   "source": [
    "property_data['zone'].eq('').sum()"
   ]
  },
  {
   "cell_type": "code",
   "execution_count": 103,
   "metadata": {},
   "outputs": [
    {
     "data": {
      "text/plain": [
       "(393089,)"
      ]
     },
     "execution_count": 103,
     "metadata": {},
     "output_type": "execute_result"
    }
   ],
   "source": [
    "property_data.loc[property_data['zone']=='']['zone'].shape"
   ]
  },
  {
   "cell_type": "code",
   "execution_count": 104,
   "metadata": {},
   "outputs": [],
   "source": [
    "new_ward = ward['colony_name'] + ward['ward']"
   ]
  },
  {
   "cell_type": "code",
   "execution_count": 105,
   "metadata": {},
   "outputs": [],
   "source": [
    "new_zone = ward['colony_name'] + ward['zone']"
   ]
  },
  {
   "cell_type": "code",
   "execution_count": 106,
   "metadata": {},
   "outputs": [
    {
     "data": {
      "text/plain": [
       "(327647,)"
      ]
     },
     "execution_count": 106,
     "metadata": {},
     "output_type": "execute_result"
    }
   ],
   "source": [
    "new_zone.shape"
   ]
  },
  {
   "cell_type": "code",
   "execution_count": 107,
   "metadata": {},
   "outputs": [
    {
     "data": {
      "text/plain": [
       "(327647,)"
      ]
     },
     "execution_count": 107,
     "metadata": {},
     "output_type": "execute_result"
    }
   ],
   "source": [
    "new_ward.shape"
   ]
  },
  {
   "cell_type": "code",
   "execution_count": 108,
   "metadata": {},
   "outputs": [],
   "source": [
    "property_data.loc[property_data['ward']==' Ward','ward'] = new_ward"
   ]
  },
  {
   "cell_type": "code",
   "execution_count": 115,
   "metadata": {},
   "outputs": [],
   "source": [
    "property_data.loc[property_data['zone']=='','zone'] = new_zone"
   ]
  },
  {
   "cell_type": "code",
   "execution_count": 116,
   "metadata": {
    "scrolled": true
   },
   "outputs": [
    {
     "data": {
      "text/plain": [
       "property_info         0\n",
       "property_type         0\n",
       "colony_name           0\n",
       "ward                  0\n",
       "zone             101577\n",
       "mcd_name              0\n",
       "owner_type            0\n",
       "fin_year              0\n",
       "pay_mode              0\n",
       "date                  0\n",
       "amount_paid           0\n",
       "dtype: int64"
      ]
     },
     "execution_count": 116,
     "metadata": {},
     "output_type": "execute_result"
    }
   ],
   "source": [
    "property_data.isnull().sum()"
   ]
  },
  {
   "cell_type": "code",
   "execution_count": 114,
   "metadata": {
    "scrolled": true
   },
   "outputs": [
    {
     "data": {
      "text/plain": [
       "Karol Bagh Zone     307831\n",
       "Sh. South Zone      300326\n",
       "Chandni Chowk       286183\n",
       "Civil Lines Zone    190845\n",
       "West Zone           188214\n",
       "Sh. North Zone      187362\n",
       "South Zone          178936\n",
       "Central Zone        129698\n",
       "City - S P Zone     129366\n",
       "Najafgarh Zone       82959\n",
       "Name: zone, dtype: int64"
      ]
     },
     "execution_count": 114,
     "metadata": {},
     "output_type": "execute_result"
    }
   ],
   "source": [
    "property_data['zone'].value_counts()[:10]"
   ]
  },
  {
   "cell_type": "code",
   "execution_count": 117,
   "metadata": {
    "scrolled": true
   },
   "outputs": [
    {
     "data": {
      "text/plain": [
       "Chandni ChowkChandni Chowk Ward    286183\n",
       "Pahar Ganj Ward                    156932\n",
       "Rohtas Nagar Ward                  133004\n",
       "Chandni chowk Ward                 126005\n",
       "Mandawali Ward                     122212\n",
       "Dev Nagar Ward                      99695\n",
       "Kishan Garh Ward                    88052\n",
       "Tilak Nagar Ward                    71886\n",
       "Kamla Nagar Ward                    71460\n",
       "Raghubarpura Ward                   68600\n",
       "Name: ward, dtype: int64"
      ]
     },
     "execution_count": 117,
     "metadata": {},
     "output_type": "execute_result"
    }
   ],
   "source": [
    "property_data['ward'].value_counts()[:10]"
   ]
  },
  {
   "cell_type": "code",
   "execution_count": 118,
   "metadata": {},
   "outputs": [
    {
     "data": {
      "text/plain": [
       "(2200000, 11)"
      ]
     },
     "execution_count": 118,
     "metadata": {},
     "output_type": "execute_result"
    }
   ],
   "source": [
    "property_data.shape"
   ]
  },
  {
   "cell_type": "code",
   "execution_count": 119,
   "metadata": {
    "scrolled": true
   },
   "outputs": [
    {
     "data": {
      "text/html": [
       "<div>\n",
       "<style scoped>\n",
       "    .dataframe tbody tr th:only-of-type {\n",
       "        vertical-align: middle;\n",
       "    }\n",
       "\n",
       "    .dataframe tbody tr th {\n",
       "        vertical-align: top;\n",
       "    }\n",
       "\n",
       "    .dataframe thead th {\n",
       "        text-align: right;\n",
       "    }\n",
       "</style>\n",
       "<table border=\"1\" class=\"dataframe\">\n",
       "  <thead>\n",
       "    <tr style=\"text-align: right;\">\n",
       "      <th></th>\n",
       "      <th>property_info</th>\n",
       "      <th>property_type</th>\n",
       "      <th>colony_name</th>\n",
       "      <th>ward</th>\n",
       "      <th>zone</th>\n",
       "      <th>mcd_name</th>\n",
       "      <th>owner_type</th>\n",
       "      <th>fin_year</th>\n",
       "      <th>pay_mode</th>\n",
       "      <th>date</th>\n",
       "      <th>amount_paid</th>\n",
       "    </tr>\n",
       "  </thead>\n",
       "  <tbody>\n",
       "    <tr>\n",
       "      <th>0</th>\n",
       "      <td>247147318400|Telephone Colony|Vivek Vihar Ward...</td>\n",
       "      <td>Residential Plotted</td>\n",
       "      <td>Telephone Colony</td>\n",
       "      <td>Vivek Vihar Ward</td>\n",
       "      <td>Sh. South Zone</td>\n",
       "      <td>Eastdelhi</td>\n",
       "      <td>ind_owner</td>\n",
       "      <td>2008-09</td>\n",
       "      <td>Na</td>\n",
       "      <td>00</td>\n",
       "      <td>00</td>\n",
       "    </tr>\n",
       "    <tr>\n",
       "      <th>1</th>\n",
       "      <td>247147318400|Telephone Colony|Vivek Vihar Ward...</td>\n",
       "      <td>Residential Plotted</td>\n",
       "      <td>Telephone Colony</td>\n",
       "      <td>Vivek Vihar Ward</td>\n",
       "      <td>Sh. South Zone</td>\n",
       "      <td>Eastdelhi</td>\n",
       "      <td>ind_owner</td>\n",
       "      <td>2009-10</td>\n",
       "      <td>Na</td>\n",
       "      <td>00</td>\n",
       "      <td>00</td>\n",
       "    </tr>\n",
       "  </tbody>\n",
       "</table>\n",
       "</div>"
      ],
      "text/plain": [
       "                                       property_info        property_type  \\\n",
       "0  247147318400|Telephone Colony|Vivek Vihar Ward...  Residential Plotted   \n",
       "1  247147318400|Telephone Colony|Vivek Vihar Ward...  Residential Plotted   \n",
       "\n",
       "        colony_name              ward            zone   mcd_name owner_type  \\\n",
       "0  Telephone Colony  Vivek Vihar Ward  Sh. South Zone  Eastdelhi  ind_owner   \n",
       "1  Telephone Colony  Vivek Vihar Ward  Sh. South Zone  Eastdelhi  ind_owner   \n",
       "\n",
       "  fin_year pay_mode date amount_paid  \n",
       "0  2008-09       Na   00          00  \n",
       "1  2009-10       Na   00          00  "
      ]
     },
     "execution_count": 119,
     "metadata": {},
     "output_type": "execute_result"
    }
   ],
   "source": [
    "property_data.head(2)"
   ]
  },
  {
   "cell_type": "code",
   "execution_count": 120,
   "metadata": {
    "scrolled": true
   },
   "outputs": [
    {
     "name": "stdout",
     "output_type": "stream",
     "text": [
      "<class 'pandas.core.frame.DataFrame'>\n",
      "RangeIndex: 2200000 entries, 0 to 2199999\n",
      "Data columns (total 11 columns):\n",
      "property_info    object\n",
      "property_type    object\n",
      "colony_name      object\n",
      "ward             object\n",
      "zone             object\n",
      "mcd_name         object\n",
      "owner_type       object\n",
      "fin_year         object\n",
      "pay_mode         object\n",
      "date             object\n",
      "amount_paid      object\n",
      "dtypes: object(11)\n",
      "memory usage: 184.6+ MB\n"
     ]
    }
   ],
   "source": [
    "property_data.info()"
   ]
  },
  {
   "cell_type": "code",
   "execution_count": 128,
   "metadata": {},
   "outputs": [],
   "source": [
    "property_data['ward']=property_data['ward'].replace(to_replace =\"Chandni chowkchandni chowk ward\"\n",
    "                                                    , value =\"chandni chowk ward\") "
   ]
  },
  {
   "cell_type": "code",
   "execution_count": 129,
   "metadata": {},
   "outputs": [],
   "source": [
    "property_data['ward']=property_data['ward'].str.capitalize() "
   ]
  },
  {
   "cell_type": "code",
   "execution_count": 123,
   "metadata": {},
   "outputs": [
    {
     "data": {
      "text/html": [
       "<div>\n",
       "<style scoped>\n",
       "    .dataframe tbody tr th:only-of-type {\n",
       "        vertical-align: middle;\n",
       "    }\n",
       "\n",
       "    .dataframe tbody tr th {\n",
       "        vertical-align: top;\n",
       "    }\n",
       "\n",
       "    .dataframe thead th {\n",
       "        text-align: right;\n",
       "    }\n",
       "</style>\n",
       "<table border=\"1\" class=\"dataframe\">\n",
       "  <thead>\n",
       "    <tr style=\"text-align: right;\">\n",
       "      <th></th>\n",
       "      <th>property_info</th>\n",
       "      <th>property_type</th>\n",
       "      <th>colony_name</th>\n",
       "      <th>ward</th>\n",
       "      <th>zone</th>\n",
       "      <th>mcd_name</th>\n",
       "      <th>owner_type</th>\n",
       "      <th>fin_year</th>\n",
       "      <th>pay_mode</th>\n",
       "      <th>date</th>\n",
       "      <th>amount_paid</th>\n",
       "    </tr>\n",
       "  </thead>\n",
       "  <tbody>\n",
       "    <tr>\n",
       "      <th>0</th>\n",
       "      <td>247147318400|Telephone Colony|Vivek Vihar Ward...</td>\n",
       "      <td>Residential Plotted</td>\n",
       "      <td>Telephone Colony</td>\n",
       "      <td>Vivek vihar ward</td>\n",
       "      <td>Sh. South Zone</td>\n",
       "      <td>Eastdelhi</td>\n",
       "      <td>ind_owner</td>\n",
       "      <td>2008-09</td>\n",
       "      <td>Na</td>\n",
       "      <td>00</td>\n",
       "      <td>00</td>\n",
       "    </tr>\n",
       "    <tr>\n",
       "      <th>1</th>\n",
       "      <td>247147318400|Telephone Colony|Vivek Vihar Ward...</td>\n",
       "      <td>Residential Plotted</td>\n",
       "      <td>Telephone Colony</td>\n",
       "      <td>Vivek vihar ward</td>\n",
       "      <td>Sh. South Zone</td>\n",
       "      <td>Eastdelhi</td>\n",
       "      <td>ind_owner</td>\n",
       "      <td>2009-10</td>\n",
       "      <td>Na</td>\n",
       "      <td>00</td>\n",
       "      <td>00</td>\n",
       "    </tr>\n",
       "  </tbody>\n",
       "</table>\n",
       "</div>"
      ],
      "text/plain": [
       "                                       property_info        property_type  \\\n",
       "0  247147318400|Telephone Colony|Vivek Vihar Ward...  Residential Plotted   \n",
       "1  247147318400|Telephone Colony|Vivek Vihar Ward...  Residential Plotted   \n",
       "\n",
       "        colony_name              ward            zone   mcd_name owner_type  \\\n",
       "0  Telephone Colony  Vivek vihar ward  Sh. South Zone  Eastdelhi  ind_owner   \n",
       "1  Telephone Colony  Vivek vihar ward  Sh. South Zone  Eastdelhi  ind_owner   \n",
       "\n",
       "  fin_year pay_mode date amount_paid  \n",
       "0  2008-09       Na   00          00  \n",
       "1  2009-10       Na   00          00  "
      ]
     },
     "execution_count": 123,
     "metadata": {},
     "output_type": "execute_result"
    }
   ],
   "source": [
    "property_data.head(2)"
   ]
  },
  {
   "cell_type": "code",
   "execution_count": 124,
   "metadata": {},
   "outputs": [
    {
     "data": {
      "text/plain": [
       "property_info         0\n",
       "property_type         0\n",
       "colony_name           0\n",
       "ward                  0\n",
       "zone             101577\n",
       "mcd_name              0\n",
       "owner_type            0\n",
       "fin_year              0\n",
       "pay_mode              0\n",
       "date                  0\n",
       "amount_paid           0\n",
       "dtype: int64"
      ]
     },
     "execution_count": 124,
     "metadata": {},
     "output_type": "execute_result"
    }
   ],
   "source": [
    "property_data.isnull().sum()"
   ]
  },
  {
   "cell_type": "markdown",
   "metadata": {},
   "source": [
    "### c:) Creating more usefull DataFrame for analysis"
   ]
  },
  {
   "cell_type": "code",
   "execution_count": 125,
   "metadata": {},
   "outputs": [],
   "source": [
    "property_data=property_data.drop(['property_info'],axis=1)"
   ]
  },
  {
   "cell_type": "code",
   "execution_count": 126,
   "metadata": {},
   "outputs": [
    {
     "data": {
      "text/html": [
       "<div>\n",
       "<style scoped>\n",
       "    .dataframe tbody tr th:only-of-type {\n",
       "        vertical-align: middle;\n",
       "    }\n",
       "\n",
       "    .dataframe tbody tr th {\n",
       "        vertical-align: top;\n",
       "    }\n",
       "\n",
       "    .dataframe thead th {\n",
       "        text-align: right;\n",
       "    }\n",
       "</style>\n",
       "<table border=\"1\" class=\"dataframe\">\n",
       "  <thead>\n",
       "    <tr style=\"text-align: right;\">\n",
       "      <th></th>\n",
       "      <th>property_type</th>\n",
       "      <th>colony_name</th>\n",
       "      <th>ward</th>\n",
       "      <th>zone</th>\n",
       "      <th>mcd_name</th>\n",
       "      <th>owner_type</th>\n",
       "      <th>fin_year</th>\n",
       "      <th>pay_mode</th>\n",
       "      <th>date</th>\n",
       "      <th>amount_paid</th>\n",
       "    </tr>\n",
       "  </thead>\n",
       "  <tbody>\n",
       "    <tr>\n",
       "      <th>0</th>\n",
       "      <td>Residential Plotted</td>\n",
       "      <td>Telephone Colony</td>\n",
       "      <td>Vivek vihar ward</td>\n",
       "      <td>Sh. South Zone</td>\n",
       "      <td>Eastdelhi</td>\n",
       "      <td>ind_owner</td>\n",
       "      <td>2008-09</td>\n",
       "      <td>Na</td>\n",
       "      <td>00</td>\n",
       "      <td>00</td>\n",
       "    </tr>\n",
       "    <tr>\n",
       "      <th>1</th>\n",
       "      <td>Residential Plotted</td>\n",
       "      <td>Telephone Colony</td>\n",
       "      <td>Vivek vihar ward</td>\n",
       "      <td>Sh. South Zone</td>\n",
       "      <td>Eastdelhi</td>\n",
       "      <td>ind_owner</td>\n",
       "      <td>2009-10</td>\n",
       "      <td>Na</td>\n",
       "      <td>00</td>\n",
       "      <td>00</td>\n",
       "    </tr>\n",
       "    <tr>\n",
       "      <th>2</th>\n",
       "      <td>Residential Plotted</td>\n",
       "      <td>Telephone Colony</td>\n",
       "      <td>Vivek vihar ward</td>\n",
       "      <td>Sh. South Zone</td>\n",
       "      <td>Eastdelhi</td>\n",
       "      <td>ind_owner</td>\n",
       "      <td>2010-11</td>\n",
       "      <td>Na</td>\n",
       "      <td>00</td>\n",
       "      <td>00</td>\n",
       "    </tr>\n",
       "    <tr>\n",
       "      <th>3</th>\n",
       "      <td>Residential Plotted</td>\n",
       "      <td>Telephone Colony</td>\n",
       "      <td>Vivek vihar ward</td>\n",
       "      <td>Sh. South Zone</td>\n",
       "      <td>Eastdelhi</td>\n",
       "      <td>ind_owner</td>\n",
       "      <td>2011-12</td>\n",
       "      <td>Na</td>\n",
       "      <td>00</td>\n",
       "      <td>00</td>\n",
       "    </tr>\n",
       "    <tr>\n",
       "      <th>4</th>\n",
       "      <td>Residential Plotted</td>\n",
       "      <td>Telephone Colony</td>\n",
       "      <td>Vivek vihar ward</td>\n",
       "      <td>Sh. South Zone</td>\n",
       "      <td>Eastdelhi</td>\n",
       "      <td>ind_owner</td>\n",
       "      <td>2012-13</td>\n",
       "      <td>Na</td>\n",
       "      <td>00</td>\n",
       "      <td>00</td>\n",
       "    </tr>\n",
       "  </tbody>\n",
       "</table>\n",
       "</div>"
      ],
      "text/plain": [
       "         property_type       colony_name              ward            zone  \\\n",
       "0  Residential Plotted  Telephone Colony  Vivek vihar ward  Sh. South Zone   \n",
       "1  Residential Plotted  Telephone Colony  Vivek vihar ward  Sh. South Zone   \n",
       "2  Residential Plotted  Telephone Colony  Vivek vihar ward  Sh. South Zone   \n",
       "3  Residential Plotted  Telephone Colony  Vivek vihar ward  Sh. South Zone   \n",
       "4  Residential Plotted  Telephone Colony  Vivek vihar ward  Sh. South Zone   \n",
       "\n",
       "    mcd_name owner_type fin_year pay_mode date amount_paid  \n",
       "0  Eastdelhi  ind_owner  2008-09       Na   00          00  \n",
       "1  Eastdelhi  ind_owner  2009-10       Na   00          00  \n",
       "2  Eastdelhi  ind_owner  2010-11       Na   00          00  \n",
       "3  Eastdelhi  ind_owner  2011-12       Na   00          00  \n",
       "4  Eastdelhi  ind_owner  2012-13       Na   00          00  "
      ]
     },
     "execution_count": 126,
     "metadata": {},
     "output_type": "execute_result"
    }
   ],
   "source": [
    "property_data.head(5)"
   ]
  },
  {
   "cell_type": "code",
   "execution_count": 130,
   "metadata": {},
   "outputs": [
    {
     "data": {
      "text/plain": [
       "Chandni chowk ward    412188\n",
       "Pahar ganj ward       156932\n",
       "Rohtas nagar ward     133004\n",
       "Mandawali ward        122212\n",
       "Dev nagar ward         99695\n",
       "Kishan garh ward       88052\n",
       "Tilak nagar ward       71886\n",
       "Kamla nagar ward       71460\n",
       "Raghubarpura ward      68600\n",
       "Mohan garden ward      63932\n",
       "Name: ward, dtype: int64"
      ]
     },
     "execution_count": 130,
     "metadata": {},
     "output_type": "execute_result"
    }
   ],
   "source": [
    "property_data['ward'].value_counts()[:10]"
   ]
  },
  {
   "cell_type": "code",
   "execution_count": 131,
   "metadata": {},
   "outputs": [],
   "source": [
    "property_data.to_csv('/home/abhishek/Desktop/tealwork/data_analysis/file_updated.csv', header=True, index=False)"
   ]
  },
  {
   "cell_type": "markdown",
   "metadata": {},
   "source": [
    "### Final DataFrame & NULL values"
   ]
  },
  {
   "cell_type": "code",
   "execution_count": 43,
   "metadata": {},
   "outputs": [
    {
     "data": {
      "text/plain": [
       "property_type    0\n",
       "colony_name      0\n",
       "ward             0\n",
       "zone             0\n",
       "mcd_name         0\n",
       "owner_type       0\n",
       "fin_year         0\n",
       "pay_mode         0\n",
       "date             0\n",
       "amount_paid      0\n",
       "dtype: int64"
      ]
     },
     "execution_count": 43,
     "metadata": {},
     "output_type": "execute_result"
    }
   ],
   "source": [
    "property_data.isnull().sum()"
   ]
  },
  {
   "cell_type": "markdown",
   "metadata": {},
   "source": [
    "### d:) Inforamtion of DataFrame (Types, total columns) "
   ]
  },
  {
   "cell_type": "code",
   "execution_count": 44,
   "metadata": {},
   "outputs": [
    {
     "name": "stdout",
     "output_type": "stream",
     "text": [
      "<class 'pandas.core.frame.DataFrame'>\n",
      "Int64Index: 2200000 entries, 0 to 2199999\n",
      "Data columns (total 10 columns):\n",
      "property_type    object\n",
      "colony_name      object\n",
      "ward             object\n",
      "zone             object\n",
      "mcd_name         object\n",
      "owner_type       object\n",
      "fin_year         object\n",
      "pay_mode         object\n",
      "date             object\n",
      "amount_paid      object\n",
      "dtypes: object(10)\n",
      "memory usage: 184.6+ MB\n"
     ]
    }
   ],
   "source": [
    "property_data.info()"
   ]
  },
  {
   "cell_type": "markdown",
   "metadata": {},
   "source": [
    "# Data Visualization & Data Analysis is Done on Tableau :-)"
   ]
  },
  {
   "cell_type": "markdown",
   "metadata": {},
   "source": [
    "### Types of Properties in Delhi NCR"
   ]
  },
  {
   "cell_type": "code",
   "execution_count": 53,
   "metadata": {},
   "outputs": [
    {
     "name": "stdout",
     "output_type": "stream",
     "text": [
      "31\n"
     ]
    }
   ],
   "source": [
    "print(len(property_data['property_type'].unique().tolist()))"
   ]
  },
  {
   "cell_type": "markdown",
   "metadata": {},
   "source": [
    "### How many types of properties we have in Delhi NCR"
   ]
  },
  {
   "cell_type": "code",
   "execution_count": 54,
   "metadata": {},
   "outputs": [
    {
     "data": {
      "text/plain": [
       "Residential Plotted                                                                                 1437446\n",
       "Commercial General                                                                                   315157\n",
       "Residential DDA Flats                                                                                192955\n",
       "Shops                                                                                                117893\n",
       "Residential Group Housing                                                                             40957\n",
       "Industrial Plotted                                                                                    18361\n",
       "Residential DDA Janta Flats                                                                           15353\n",
       "Local Shopping Center                                                                                 10057\n",
       "Hotel/Restaurants                                                                                      9120\n",
       "Farm House                                                                                             8292\n",
       "Institutional Educational                                                                              4920\n",
       "Community Center                                                                                       4034\n",
       "Agricultural                                                                                           3924\n",
       "Industrial Light Industrial                                                                            3744\n",
       "Industrial Flatted Factory                                                                             3361\n",
       "Recreational                                                                                           3000\n",
       "Malls/Multiplexes/PVRs                                                                                 1968\n",
       "Convenient Shopping Center                                                                             1850\n",
       "Institutional Medical                                                                                  1188\n",
       "District Center                                                                                        1056\n",
       "Institutional Religion                                                                                  948\n",
       "Empty_space_or_no_information                                                                           948\n",
       "Institutional General                                                                                   744\n",
       "Metropolitan City Center                                                                                612\n",
       "Banquet Halls                                                                                           600\n",
       "Petrol Pumps/CNG Stations                                                                               528\n",
       "Coaching Centres                                                                                        456\n",
       "Govt. Company and Statutory Corporation Properties                                                      240\n",
       "Big /super/special Commercial property with covered Area of 1500sq. ft.(139.5 sq.mtr.) and above        132\n",
       "Air Conditioned Gyms                                                                                    108\n",
       "NHCC (Non Hierarchial Commercial Centre)                                                                 48\n",
       "Name: property_type, dtype: int64"
      ]
     },
     "execution_count": 54,
     "metadata": {},
     "output_type": "execute_result"
    }
   ],
   "source": [
    "property_data['property_type'].value_counts()"
   ]
  },
  {
   "cell_type": "code",
   "execution_count": 84,
   "metadata": {},
   "outputs": [
    {
     "data": {
      "text/plain": [
       "<matplotlib.axes._subplots.AxesSubplot at 0x7f58409f6630>"
      ]
     },
     "execution_count": 84,
     "metadata": {},
     "output_type": "execute_result"
    },
    {
     "data": {
      "image/png": "[encoded data removed]",
      "text/plain": [
       "<Figure size 1080x576 with 1 Axes>"
      ]
     },
     "metadata": {
      "needs_background": "light"
     },
     "output_type": "display_data"
    }
   ],
   "source": [
    "plt.figure(figsize=(15,8))\n",
    "plt.suptitle('Top 10 kind of Property in DElHI', fontsize=25)\n",
    "plt.ylabel('types of property in Delhi ',fontsize=25)\n",
    "color_list= ['cyan', '#008DCA', '#0EBFE9','#5cb85c','#5bc0de','#d9534f']\n",
    "plt.tick_params(axis='both', which='major', colors='black', labelsize=15)\n",
    "property_data['property_type'].value_counts()[:10].sort_values().plot(kind=\"barh\",color=color_list)"
   ]
  },
  {
   "cell_type": "code",
   "execution_count": 83,
   "metadata": {},
   "outputs": [],
   "source": [
    "# plt.figure(figsize=(12,12))\n",
    "# plt.suptitle('Types of Property in DElHI', fontsize=25)\n",
    "# property_data['property_type'].value_counts()[:7].plot(kind='pie', \n",
    "#                                                        autopct='%1.0f%%', pctdistance=1.1, labeldistance=1.2)\n",
    "# plt.axis('off')                                                   "
   ]
  },
  {
   "cell_type": "markdown",
   "metadata": {},
   "source": [
    "### Each Type of Property is paying How much money:"
   ]
  },
  {
   "cell_type": "code",
   "execution_count": 64,
   "metadata": {},
   "outputs": [
    {
     "data": {
      "text/html": [
       "<div>\n",
       "<style scoped>\n",
       "    .dataframe tbody tr th:only-of-type {\n",
       "        vertical-align: middle;\n",
       "    }\n",
       "\n",
       "    .dataframe tbody tr th {\n",
       "        vertical-align: top;\n",
       "    }\n",
       "\n",
       "    .dataframe thead th {\n",
       "        text-align: right;\n",
       "    }\n",
       "</style>\n",
       "<table border=\"1\" class=\"dataframe\">\n",
       "  <thead>\n",
       "    <tr style=\"text-align: right;\">\n",
       "      <th></th>\n",
       "      <th>count</th>\n",
       "      <th>mean</th>\n",
       "      <th>std</th>\n",
       "      <th>min</th>\n",
       "      <th>25%</th>\n",
       "      <th>50%</th>\n",
       "      <th>75%</th>\n",
       "      <th>max</th>\n",
       "    </tr>\n",
       "    <tr>\n",
       "      <th>property_type</th>\n",
       "      <th></th>\n",
       "      <th></th>\n",
       "      <th></th>\n",
       "      <th></th>\n",
       "      <th></th>\n",
       "      <th></th>\n",
       "      <th></th>\n",
       "      <th></th>\n",
       "    </tr>\n",
       "  </thead>\n",
       "  <tbody>\n",
       "    <tr>\n",
       "      <th>Agricultural</th>\n",
       "      <td>3924.0</td>\n",
       "      <td>2320.017839</td>\n",
       "      <td>12730.114927</td>\n",
       "      <td>0.0</td>\n",
       "      <td>0.0</td>\n",
       "      <td>0.0</td>\n",
       "      <td>0.00</td>\n",
       "      <td>227375.0</td>\n",
       "    </tr>\n",
       "    <tr>\n",
       "      <th>Air Conditioned Gyms</th>\n",
       "      <td>108.0</td>\n",
       "      <td>764.342593</td>\n",
       "      <td>4563.263421</td>\n",
       "      <td>0.0</td>\n",
       "      <td>0.0</td>\n",
       "      <td>0.0</td>\n",
       "      <td>0.00</td>\n",
       "      <td>31145.0</td>\n",
       "    </tr>\n",
       "    <tr>\n",
       "      <th>Banquet Halls</th>\n",
       "      <td>600.0</td>\n",
       "      <td>10519.951667</td>\n",
       "      <td>86243.183273</td>\n",
       "      <td>0.0</td>\n",
       "      <td>0.0</td>\n",
       "      <td>0.0</td>\n",
       "      <td>0.00</td>\n",
       "      <td>887295.0</td>\n",
       "    </tr>\n",
       "    <tr>\n",
       "      <th>Big /super/special Commercial property with covered Area of 1500sq. ft.(139.5 sq.mtr.) and above</th>\n",
       "      <td>132.0</td>\n",
       "      <td>9059.136364</td>\n",
       "      <td>25287.912169</td>\n",
       "      <td>0.0</td>\n",
       "      <td>0.0</td>\n",
       "      <td>0.0</td>\n",
       "      <td>0.00</td>\n",
       "      <td>103076.0</td>\n",
       "    </tr>\n",
       "    <tr>\n",
       "      <th>Coaching Centres</th>\n",
       "      <td>456.0</td>\n",
       "      <td>5313.186404</td>\n",
       "      <td>14971.903220</td>\n",
       "      <td>0.0</td>\n",
       "      <td>0.0</td>\n",
       "      <td>0.0</td>\n",
       "      <td>0.00</td>\n",
       "      <td>103517.0</td>\n",
       "    </tr>\n",
       "    <tr>\n",
       "      <th>Commercial General</th>\n",
       "      <td>315157.0</td>\n",
       "      <td>1481.216647</td>\n",
       "      <td>10985.446088</td>\n",
       "      <td>0.0</td>\n",
       "      <td>0.0</td>\n",
       "      <td>0.0</td>\n",
       "      <td>0.00</td>\n",
       "      <td>1466080.0</td>\n",
       "    </tr>\n",
       "    <tr>\n",
       "      <th>Community Center</th>\n",
       "      <td>4034.0</td>\n",
       "      <td>6182.633651</td>\n",
       "      <td>22569.414257</td>\n",
       "      <td>0.0</td>\n",
       "      <td>0.0</td>\n",
       "      <td>0.0</td>\n",
       "      <td>0.00</td>\n",
       "      <td>200263.0</td>\n",
       "    </tr>\n",
       "    <tr>\n",
       "      <th>Convenient Shopping Center</th>\n",
       "      <td>1850.0</td>\n",
       "      <td>1929.690989</td>\n",
       "      <td>9535.856517</td>\n",
       "      <td>0.0</td>\n",
       "      <td>0.0</td>\n",
       "      <td>0.0</td>\n",
       "      <td>898.00</td>\n",
       "      <td>164334.0</td>\n",
       "    </tr>\n",
       "    <tr>\n",
       "      <th>District Center</th>\n",
       "      <td>1056.0</td>\n",
       "      <td>568.844773</td>\n",
       "      <td>8165.994912</td>\n",
       "      <td>0.0</td>\n",
       "      <td>0.0</td>\n",
       "      <td>0.0</td>\n",
       "      <td>0.00</td>\n",
       "      <td>168148.0</td>\n",
       "    </tr>\n",
       "    <tr>\n",
       "      <th>Empty_space_or_no_information</th>\n",
       "      <td>948.0</td>\n",
       "      <td>7.580169</td>\n",
       "      <td>83.785383</td>\n",
       "      <td>0.0</td>\n",
       "      <td>0.0</td>\n",
       "      <td>0.0</td>\n",
       "      <td>0.00</td>\n",
       "      <td>1983.0</td>\n",
       "    </tr>\n",
       "    <tr>\n",
       "      <th>Farm House</th>\n",
       "      <td>8292.0</td>\n",
       "      <td>8288.840124</td>\n",
       "      <td>36027.351966</td>\n",
       "      <td>0.0</td>\n",
       "      <td>0.0</td>\n",
       "      <td>0.0</td>\n",
       "      <td>0.00</td>\n",
       "      <td>497055.0</td>\n",
       "    </tr>\n",
       "    <tr>\n",
       "      <th>Govt. Company and Statutory Corporation Properties</th>\n",
       "      <td>240.0</td>\n",
       "      <td>37759.008333</td>\n",
       "      <td>145885.922248</td>\n",
       "      <td>0.0</td>\n",
       "      <td>0.0</td>\n",
       "      <td>0.0</td>\n",
       "      <td>0.00</td>\n",
       "      <td>785823.0</td>\n",
       "    </tr>\n",
       "    <tr>\n",
       "      <th>Hotel/Restaurants</th>\n",
       "      <td>9120.0</td>\n",
       "      <td>10370.057785</td>\n",
       "      <td>34097.954752</td>\n",
       "      <td>0.0</td>\n",
       "      <td>0.0</td>\n",
       "      <td>0.0</td>\n",
       "      <td>0.00</td>\n",
       "      <td>405160.0</td>\n",
       "    </tr>\n",
       "    <tr>\n",
       "      <th>Industrial Flatted Factory</th>\n",
       "      <td>3361.0</td>\n",
       "      <td>2803.117129</td>\n",
       "      <td>14437.189638</td>\n",
       "      <td>0.0</td>\n",
       "      <td>0.0</td>\n",
       "      <td>0.0</td>\n",
       "      <td>0.00</td>\n",
       "      <td>249649.0</td>\n",
       "    </tr>\n",
       "    <tr>\n",
       "      <th>Industrial Light Industrial</th>\n",
       "      <td>3744.0</td>\n",
       "      <td>3894.215545</td>\n",
       "      <td>15338.160456</td>\n",
       "      <td>0.0</td>\n",
       "      <td>0.0</td>\n",
       "      <td>0.0</td>\n",
       "      <td>0.00</td>\n",
       "      <td>215828.0</td>\n",
       "    </tr>\n",
       "    <tr>\n",
       "      <th>Industrial Plotted</th>\n",
       "      <td>18361.0</td>\n",
       "      <td>6624.827061</td>\n",
       "      <td>36568.423647</td>\n",
       "      <td>0.0</td>\n",
       "      <td>0.0</td>\n",
       "      <td>0.0</td>\n",
       "      <td>0.00</td>\n",
       "      <td>940518.0</td>\n",
       "    </tr>\n",
       "    <tr>\n",
       "      <th>Institutional Educational</th>\n",
       "      <td>4920.0</td>\n",
       "      <td>9746.775203</td>\n",
       "      <td>72909.238728</td>\n",
       "      <td>0.0</td>\n",
       "      <td>0.0</td>\n",
       "      <td>0.0</td>\n",
       "      <td>0.00</td>\n",
       "      <td>1795273.0</td>\n",
       "    </tr>\n",
       "    <tr>\n",
       "      <th>Institutional General</th>\n",
       "      <td>744.0</td>\n",
       "      <td>4371.875000</td>\n",
       "      <td>46034.861376</td>\n",
       "      <td>0.0</td>\n",
       "      <td>0.0</td>\n",
       "      <td>0.0</td>\n",
       "      <td>0.00</td>\n",
       "      <td>857345.0</td>\n",
       "    </tr>\n",
       "    <tr>\n",
       "      <th>Institutional Medical</th>\n",
       "      <td>1188.0</td>\n",
       "      <td>9291.997264</td>\n",
       "      <td>32600.420211</td>\n",
       "      <td>0.0</td>\n",
       "      <td>0.0</td>\n",
       "      <td>0.0</td>\n",
       "      <td>0.00</td>\n",
       "      <td>246409.0</td>\n",
       "    </tr>\n",
       "    <tr>\n",
       "      <th>Institutional Religion</th>\n",
       "      <td>948.0</td>\n",
       "      <td>947.612869</td>\n",
       "      <td>4777.446888</td>\n",
       "      <td>0.0</td>\n",
       "      <td>0.0</td>\n",
       "      <td>0.0</td>\n",
       "      <td>0.00</td>\n",
       "      <td>61776.0</td>\n",
       "    </tr>\n",
       "    <tr>\n",
       "      <th>Local Shopping Center</th>\n",
       "      <td>10057.0</td>\n",
       "      <td>1846.324848</td>\n",
       "      <td>10706.796657</td>\n",
       "      <td>0.0</td>\n",
       "      <td>0.0</td>\n",
       "      <td>0.0</td>\n",
       "      <td>0.00</td>\n",
       "      <td>178509.0</td>\n",
       "    </tr>\n",
       "    <tr>\n",
       "      <th>Malls/Multiplexes/PVRs</th>\n",
       "      <td>1968.0</td>\n",
       "      <td>3162.809959</td>\n",
       "      <td>8358.763376</td>\n",
       "      <td>0.0</td>\n",
       "      <td>0.0</td>\n",
       "      <td>0.0</td>\n",
       "      <td>0.00</td>\n",
       "      <td>74406.0</td>\n",
       "    </tr>\n",
       "    <tr>\n",
       "      <th>Metropolitan City Center</th>\n",
       "      <td>612.0</td>\n",
       "      <td>3190.915033</td>\n",
       "      <td>16515.466719</td>\n",
       "      <td>0.0</td>\n",
       "      <td>0.0</td>\n",
       "      <td>0.0</td>\n",
       "      <td>1691.75</td>\n",
       "      <td>265669.0</td>\n",
       "    </tr>\n",
       "    <tr>\n",
       "      <th>NHCC (Non Hierarchial Commercial Centre)</th>\n",
       "      <td>48.0</td>\n",
       "      <td>818.083333</td>\n",
       "      <td>5667.847593</td>\n",
       "      <td>0.0</td>\n",
       "      <td>0.0</td>\n",
       "      <td>0.0</td>\n",
       "      <td>0.00</td>\n",
       "      <td>39268.0</td>\n",
       "    </tr>\n",
       "    <tr>\n",
       "      <th>Petrol Pumps/CNG Stations</th>\n",
       "      <td>528.0</td>\n",
       "      <td>21910.376894</td>\n",
       "      <td>50011.960383</td>\n",
       "      <td>0.0</td>\n",
       "      <td>0.0</td>\n",
       "      <td>0.0</td>\n",
       "      <td>0.00</td>\n",
       "      <td>253282.0</td>\n",
       "    </tr>\n",
       "    <tr>\n",
       "      <th>Recreational</th>\n",
       "      <td>3000.0</td>\n",
       "      <td>1001.991400</td>\n",
       "      <td>15366.407794</td>\n",
       "      <td>0.0</td>\n",
       "      <td>0.0</td>\n",
       "      <td>0.0</td>\n",
       "      <td>0.00</td>\n",
       "      <td>346664.0</td>\n",
       "    </tr>\n",
       "    <tr>\n",
       "      <th>Residential DDA Flats</th>\n",
       "      <td>192955.0</td>\n",
       "      <td>803.336880</td>\n",
       "      <td>1788.179592</td>\n",
       "      <td>0.0</td>\n",
       "      <td>0.0</td>\n",
       "      <td>0.0</td>\n",
       "      <td>1234.00</td>\n",
       "      <td>110596.0</td>\n",
       "    </tr>\n",
       "    <tr>\n",
       "      <th>Residential DDA Janta Flats</th>\n",
       "      <td>15353.0</td>\n",
       "      <td>211.989640</td>\n",
       "      <td>670.259534</td>\n",
       "      <td>0.0</td>\n",
       "      <td>0.0</td>\n",
       "      <td>0.0</td>\n",
       "      <td>0.00</td>\n",
       "      <td>17855.0</td>\n",
       "    </tr>\n",
       "    <tr>\n",
       "      <th>Residential Group Housing</th>\n",
       "      <td>40957.0</td>\n",
       "      <td>321.279950</td>\n",
       "      <td>1315.027015</td>\n",
       "      <td>0.0</td>\n",
       "      <td>0.0</td>\n",
       "      <td>0.0</td>\n",
       "      <td>0.00</td>\n",
       "      <td>38739.0</td>\n",
       "    </tr>\n",
       "    <tr>\n",
       "      <th>Residential Plotted</th>\n",
       "      <td>1437446.0</td>\n",
       "      <td>815.639650</td>\n",
       "      <td>5248.591982</td>\n",
       "      <td>0.0</td>\n",
       "      <td>0.0</td>\n",
       "      <td>0.0</td>\n",
       "      <td>0.00</td>\n",
       "      <td>544762.0</td>\n",
       "    </tr>\n",
       "    <tr>\n",
       "      <th>Shops</th>\n",
       "      <td>117893.0</td>\n",
       "      <td>1037.141565</td>\n",
       "      <td>7022.346325</td>\n",
       "      <td>0.0</td>\n",
       "      <td>0.0</td>\n",
       "      <td>0.0</td>\n",
       "      <td>399.00</td>\n",
       "      <td>416899.0</td>\n",
       "    </tr>\n",
       "  </tbody>\n",
       "</table>\n",
       "</div>"
      ],
      "text/plain": [
       "                                                        count          mean  \\\n",
       "property_type                                                                 \n",
       "Agricultural                                           3924.0   2320.017839   \n",
       "Air Conditioned Gyms                                    108.0    764.342593   \n",
       "Banquet Halls                                           600.0  10519.951667   \n",
       "Big /super/special Commercial property with cov...      132.0   9059.136364   \n",
       "Coaching Centres                                        456.0   5313.186404   \n",
       "Commercial General                                   315157.0   1481.216647   \n",
       "Community Center                                       4034.0   6182.633651   \n",
       "Convenient Shopping Center                             1850.0   1929.690989   \n",
       "District Center                                        1056.0    568.844773   \n",
       "Empty_space_or_no_information                           948.0      7.580169   \n",
       "Farm House                                             8292.0   8288.840124   \n",
       "Govt. Company and Statutory Corporation Properties      240.0  37759.008333   \n",
       "Hotel/Restaurants                                      9120.0  10370.057785   \n",
       "Industrial Flatted Factory                             3361.0   2803.117129   \n",
       "Industrial Light Industrial                            3744.0   3894.215545   \n",
       "Industrial Plotted                                    18361.0   6624.827061   \n",
       "Institutional Educational                              4920.0   9746.775203   \n",
       "Institutional General                                   744.0   4371.875000   \n",
       "Institutional Medical                                  1188.0   9291.997264   \n",
       "Institutional Religion                                  948.0    947.612869   \n",
       "Local Shopping Center                                 10057.0   1846.324848   \n",
       "Malls/Multiplexes/PVRs                                 1968.0   3162.809959   \n",
       "Metropolitan City Center                                612.0   3190.915033   \n",
       "NHCC (Non Hierarchial Commercial Centre)                 48.0    818.083333   \n",
       "Petrol Pumps/CNG Stations                               528.0  21910.376894   \n",
       "Recreational                                           3000.0   1001.991400   \n",
       "Residential DDA Flats                                192955.0    803.336880   \n",
       "Residential DDA Janta Flats                           15353.0    211.989640   \n",
       "Residential Group Housing                             40957.0    321.279950   \n",
       "Residential Plotted                                 1437446.0    815.639650   \n",
       "Shops                                                117893.0   1037.141565   \n",
       "\n",
       "                                                              std  min  25%  \\\n",
       "property_type                                                                 \n",
       "Agricultural                                         12730.114927  0.0  0.0   \n",
       "Air Conditioned Gyms                                  4563.263421  0.0  0.0   \n",
       "Banquet Halls                                        86243.183273  0.0  0.0   \n",
       "Big /super/special Commercial property with cov...   25287.912169  0.0  0.0   \n",
       "Coaching Centres                                     14971.903220  0.0  0.0   \n",
       "Commercial General                                   10985.446088  0.0  0.0   \n",
       "Community Center                                     22569.414257  0.0  0.0   \n",
       "Convenient Shopping Center                            9535.856517  0.0  0.0   \n",
       "District Center                                       8165.994912  0.0  0.0   \n",
       "Empty_space_or_no_information                           83.785383  0.0  0.0   \n",
       "Farm House                                           36027.351966  0.0  0.0   \n",
       "Govt. Company and Statutory Corporation Properties  145885.922248  0.0  0.0   \n",
       "Hotel/Restaurants                                    34097.954752  0.0  0.0   \n",
       "Industrial Flatted Factory                           14437.189638  0.0  0.0   \n",
       "Industrial Light Industrial                          15338.160456  0.0  0.0   \n",
       "Industrial Plotted                                   36568.423647  0.0  0.0   \n",
       "Institutional Educational                            72909.238728  0.0  0.0   \n",
       "Institutional General                                46034.861376  0.0  0.0   \n",
       "Institutional Medical                                32600.420211  0.0  0.0   \n",
       "Institutional Religion                                4777.446888  0.0  0.0   \n",
       "Local Shopping Center                                10706.796657  0.0  0.0   \n",
       "Malls/Multiplexes/PVRs                                8358.763376  0.0  0.0   \n",
       "Metropolitan City Center                             16515.466719  0.0  0.0   \n",
       "NHCC (Non Hierarchial Commercial Centre)              5667.847593  0.0  0.0   \n",
       "Petrol Pumps/CNG Stations                            50011.960383  0.0  0.0   \n",
       "Recreational                                         15366.407794  0.0  0.0   \n",
       "Residential DDA Flats                                 1788.179592  0.0  0.0   \n",
       "Residential DDA Janta Flats                            670.259534  0.0  0.0   \n",
       "Residential Group Housing                             1315.027015  0.0  0.0   \n",
       "Residential Plotted                                   5248.591982  0.0  0.0   \n",
       "Shops                                                 7022.346325  0.0  0.0   \n",
       "\n",
       "                                                    50%      75%        max  \n",
       "property_type                                                                \n",
       "Agricultural                                        0.0     0.00   227375.0  \n",
       "Air Conditioned Gyms                                0.0     0.00    31145.0  \n",
       "Banquet Halls                                       0.0     0.00   887295.0  \n",
       "Big /super/special Commercial property with cov...  0.0     0.00   103076.0  \n",
       "Coaching Centres                                    0.0     0.00   103517.0  \n",
       "Commercial General                                  0.0     0.00  1466080.0  \n",
       "Community Center                                    0.0     0.00   200263.0  \n",
       "Convenient Shopping Center                          0.0   898.00   164334.0  \n",
       "District Center                                     0.0     0.00   168148.0  \n",
       "Empty_space_or_no_information                       0.0     0.00     1983.0  \n",
       "Farm House                                          0.0     0.00   497055.0  \n",
       "Govt. Company and Statutory Corporation Properties  0.0     0.00   785823.0  \n",
       "Hotel/Restaurants                                   0.0     0.00   405160.0  \n",
       "Industrial Flatted Factory                          0.0     0.00   249649.0  \n",
       "Industrial Light Industrial                         0.0     0.00   215828.0  \n",
       "Industrial Plotted                                  0.0     0.00   940518.0  \n",
       "Institutional Educational                           0.0     0.00  1795273.0  \n",
       "Institutional General                               0.0     0.00   857345.0  \n",
       "Institutional Medical                               0.0     0.00   246409.0  \n",
       "Institutional Religion                              0.0     0.00    61776.0  \n",
       "Local Shopping Center                               0.0     0.00   178509.0  \n",
       "Malls/Multiplexes/PVRs                              0.0     0.00    74406.0  \n",
       "Metropolitan City Center                            0.0  1691.75   265669.0  \n",
       "NHCC (Non Hierarchial Commercial Centre)            0.0     0.00    39268.0  \n",
       "Petrol Pumps/CNG Stations                           0.0     0.00   253282.0  \n",
       "Recreational                                        0.0     0.00   346664.0  \n",
       "Residential DDA Flats                               0.0  1234.00   110596.0  \n",
       "Residential DDA Janta Flats                         0.0     0.00    17855.0  \n",
       "Residential Group Housing                           0.0     0.00    38739.0  \n",
       "Residential Plotted                                 0.0     0.00   544762.0  \n",
       "Shops                                               0.0   399.00   416899.0  "
      ]
     },
     "execution_count": 64,
     "metadata": {},
     "output_type": "execute_result"
    }
   ],
   "source": [
    "property_data['amount_paid'].groupby(property_data['property_type']).describe()"
   ]
  },
  {
   "cell_type": "markdown",
   "metadata": {},
   "source": [
    "### Tortal Colonies in Delhi NCR"
   ]
  },
  {
   "cell_type": "code",
   "execution_count": 31,
   "metadata": {},
   "outputs": [
    {
     "name": "stdout",
     "output_type": "stream",
     "text": [
      "184\n"
     ]
    }
   ],
   "source": [
    "print(len(property_data['colony_name'].unique().tolist()))"
   ]
  },
  {
   "cell_type": "markdown",
   "metadata": {},
   "source": [
    "### Top 25 entries in Colonies Column"
   ]
  },
  {
   "cell_type": "code",
   "execution_count": 44,
   "metadata": {},
   "outputs": [
    {
     "data": {
      "text/plain": [
       "Chandni Chowk                          34348\n",
       "Tilak Nagar                            15456\n",
       "Najafgarh Extn.                        13994\n",
       "Pahar Ganj                             13333\n",
       "Vinod Nagar                            10238\n",
       "Sagar Pur Main and West                 9345\n",
       "Bhajanpura                              8424\n",
       "Rehgarpura                              8394\n",
       "Vasant Kunj (Kishangarh) D-1 to D-6     7490\n",
       "Rohtash Nagar                           7463\n",
       "Shakti Nagar                            5980\n",
       "Mohan Garden (Uttam Nagar)              5842\n",
       "Mansarovar Garden                       5838\n",
       "Raghubarpura                            5780\n",
       "Hauz Qazi                               5566\n",
       "Jasola Vihar                            5550\n",
       "Vivek Vihar Ph - I                      4510\n",
       "Mahaveer Encl Part I                    4209\n",
       "Anand Vihar                             4204\n",
       "Shakarpur                               4107\n",
       "Derawal Nagar                           3955\n",
       "Navin Shahdra                           3779\n",
       "Balbir Nagar Extn.                      3569\n",
       "Amar Colony, Lajpat Nagar               3538\n",
       "Ghonda Colony                           3380\n",
       "Name: colony_name, dtype: int64"
      ]
     },
     "execution_count": 44,
     "metadata": {},
     "output_type": "execute_result"
    }
   ],
   "source": [
    "property_data['colony_name'].value_counts()[:25]"
   ]
  },
  {
   "cell_type": "code",
   "execution_count": 48,
   "metadata": {},
   "outputs": [
    {
     "data": {
      "text/plain": [
       "<matplotlib.axes._subplots.AxesSubplot at 0x7f101672d550>"
      ]
     },
     "execution_count": 48,
     "metadata": {},
     "output_type": "execute_result"
    },
    {
     "data": {
      "image/png": "[encoded data removed]",
      "text/plain": [
       "<Figure size 1800x720 with 1 Axes>"
      ]
     },
     "metadata": {
      "needs_background": "light"
     },
     "output_type": "display_data"
    }
   ],
   "source": [
    "plt.figure(figsize=(25,10))\n",
    "plt.suptitle('Top 20 colony, maximum number of Properties in DElHI', fontsize=25)\n",
    "plt.ylabel('colony_name',fontsize=25)\n",
    "plt.tick_params(axis='both', which='major', colors='black', labelsize=20)\n",
    "property_data['colony_name'].value_counts()[:20].sort_values().plot(kind='barh')"
   ]
  },
  {
   "cell_type": "code",
   "execution_count": 49,
   "metadata": {},
   "outputs": [
    {
     "data": {
      "text/plain": [
       "(-1.25, 1.25, -1.25, 1.25)"
      ]
     },
     "execution_count": 49,
     "metadata": {},
     "output_type": "execute_result"
    },
    {
     "data": {
      "image/png": "[encoded data removed]",
      "text/plain": [
       "<Figure size 864x720 with 1 Axes>"
      ]
     },
     "metadata": {},
     "output_type": "display_data"
    }
   ],
   "source": [
    "plt.figure(figsize=(12,10))\n",
    "plt.suptitle('Top 10 Colonies With most number of Properties in DElHI', fontsize=18)\n",
    "property_data['colony_name'].value_counts()[:10].plot(kind='pie',autopct='%1.0f%%')\n",
    "plt.axis('off')                                                   "
   ]
  },
  {
   "cell_type": "markdown",
   "metadata": {},
   "source": [
    "### Total Wards in Delhi NCR"
   ]
  },
  {
   "cell_type": "code",
   "execution_count": 50,
   "metadata": {
    "scrolled": true
   },
   "outputs": [
    {
     "name": "stdout",
     "output_type": "stream",
     "text": [
      "191\n"
     ]
    }
   ],
   "source": [
    "print(len(property_data['ward'].unique().tolist()))"
   ]
  },
  {
   "cell_type": "markdown",
   "metadata": {},
   "source": [
    "### Top 20 ward with maximum number of Properties"
   ]
  },
  {
   "cell_type": "code",
   "execution_count": 78,
   "metadata": {},
   "outputs": [
    {
     "data": {
      "text/plain": [
       "<matplotlib.axes._subplots.AxesSubplot at 0x7f1014b80d30>"
      ]
     },
     "execution_count": 78,
     "metadata": {},
     "output_type": "execute_result"
    },
    {
     "data": {
      "image/png": "[encoded data removed]",
      "text/plain": [
       "<Figure size 1800x720 with 1 Axes>"
      ]
     },
     "metadata": {
      "needs_background": "light"
     },
     "output_type": "display_data"
    }
   ],
   "source": [
    "plt.figure(figsize=(25,10))\n",
    "plt.suptitle('Top Wards with maximum number of Properties in DElHI NCR', fontsize=25, y=1.02)\n",
    "plt.ylabel('WARD_name',fontsize=20)\n",
    "plt.tick_params(axis='both', which='major', colors='black', labelsize=18)\n",
    "property_data['ward'].value_counts()[:20].sort_values().plot(kind='barh')"
   ]
  },
  {
   "cell_type": "code",
   "execution_count": 79,
   "metadata": {},
   "outputs": [
    {
     "data": {
      "text/plain": [
       "(-1.25, 1.25, -1.25, 1.25)"
      ]
     },
     "execution_count": 79,
     "metadata": {},
     "output_type": "execute_result"
    },
    {
     "data": {
      "image/png": "[encoded data removed]",
      "text/plain": [
       "<Figure size 864x864 with 1 Axes>"
      ]
     },
     "metadata": {},
     "output_type": "display_data"
    }
   ],
   "source": [
    "plt.figure(figsize=(12,12))\n",
    "plt.suptitle('Top 10 Dense Wards in DElHI', fontsize=20)\n",
    "property_data['ward'].value_counts()[:10].plot(kind='pie',autopct='%1.0f%%')\n",
    "plt.axis('off')                                                   "
   ]
  },
  {
   "cell_type": "markdown",
   "metadata": {},
   "source": [
    "### Total Zones in Delhi NCR"
   ]
  },
  {
   "cell_type": "code",
   "execution_count": 81,
   "metadata": {},
   "outputs": [
    {
     "name": "stdout",
     "output_type": "stream",
     "text": [
      "13\n"
     ]
    }
   ],
   "source": [
    "print(len(property_data['zone'].unique().tolist()))"
   ]
  },
  {
   "cell_type": "markdown",
   "metadata": {},
   "source": [
    "### Number of Properties in Each Zone"
   ]
  },
  {
   "cell_type": "code",
   "execution_count": 82,
   "metadata": {
    "scrolled": true
   },
   "outputs": [
    {
     "data": {
      "text/plain": [
       "Sh. South Zone      39090\n",
       "                    37219\n",
       "Najafgarh Zone      33201\n",
       "West Zone           31791\n",
       "Sh. North Zone      30876\n",
       "Karol Bagh Zone     29013\n",
       "South Zone          22839\n",
       "Civil Lines Zone    21443\n",
       "Central Zone        16475\n",
       "City - S P Zone     13437\n",
       "Keshavpuram Zone     8450\n",
       "Rohini Zone          3718\n",
       "Narela Zone          2448\n",
       "Name: zone, dtype: int64"
      ]
     },
     "execution_count": 82,
     "metadata": {},
     "output_type": "execute_result"
    }
   ],
   "source": [
    "property_data['zone'].value_counts()"
   ]
  },
  {
   "cell_type": "markdown",
   "metadata": {},
   "source": [
    "### In Delhi, Top 10 zones who owns maximum number of Properties "
   ]
  },
  {
   "cell_type": "code",
   "execution_count": 121,
   "metadata": {
    "scrolled": false
   },
   "outputs": [
    {
     "data": {
      "text/plain": [
       "<matplotlib.axes._subplots.AxesSubplot at 0x7f100f437358>"
      ]
     },
     "execution_count": 121,
     "metadata": {},
     "output_type": "execute_result"
    },
    {
     "data": {
      "image/png": "[encoded data removed]",
      "text/plain": [
       "<Figure size 1800x720 with 1 Axes>"
      ]
     },
     "metadata": {
      "needs_background": "light"
     },
     "output_type": "display_data"
    }
   ],
   "source": [
    "plt.figure(figsize=(25,10))\n",
    "plt.suptitle('Top zones with maximum number of Properties in DElHI NCR', fontsize=25, y=1.02)\n",
    "plt.ylabel('zone',fontsize=20)\n",
    "plt.tick_params(axis='both', which='major', colors='black', labelsize=18)\n",
    "property_data['zone'].value_counts()[:10].plot(kind='barh')"
   ]
  },
  {
   "cell_type": "markdown",
   "metadata": {},
   "source": [
    "### Total MCD's in Delhi NCR"
   ]
  },
  {
   "cell_type": "code",
   "execution_count": 84,
   "metadata": {},
   "outputs": [
    {
     "name": "stdout",
     "output_type": "stream",
     "text": [
      "3\n"
     ]
    }
   ],
   "source": [
    "print(len(property_data['mcd_name'].unique().tolist()))"
   ]
  },
  {
   "cell_type": "markdown",
   "metadata": {},
   "source": [
    "###  Number of properties Owns by Each MCD's in Delhi NCR "
   ]
  },
  {
   "cell_type": "code",
   "execution_count": 85,
   "metadata": {},
   "outputs": [
    {
     "data": {
      "text/plain": [
       "Northdelhi    115728\n",
       "Southdelhi    104306\n",
       "Eastdelhi      69966\n",
       "Name: mcd_name, dtype: int64"
      ]
     },
     "execution_count": 85,
     "metadata": {},
     "output_type": "execute_result"
    }
   ],
   "source": [
    "property_data['mcd_name'].value_counts()"
   ]
  },
  {
   "cell_type": "code",
   "execution_count": 86,
   "metadata": {},
   "outputs": [
    {
     "data": {
      "text/plain": [
       "<matplotlib.axes._subplots.AxesSubplot at 0x7f1014c457f0>"
      ]
     },
     "execution_count": 86,
     "metadata": {},
     "output_type": "execute_result"
    },
    {
     "data": {
      "image/png": "[encoded data removed]",
      "text/plain": [
       "<Figure size 432x288 with 1 Axes>"
      ]
     },
     "metadata": {
      "needs_background": "light"
     },
     "output_type": "display_data"
    }
   ],
   "source": [
    "plt.suptitle('Countplot of MCD type in DElHI NCR', fontsize=12)\n",
    "plt.xlabel('Owner_type',fontsize=10)\n",
    "plt.tick_params(axis='both', which='major', colors='black', labelsize=10)\n",
    "sns.countplot(x=\"mcd_name\",data=property_data)"
   ]
  },
  {
   "cell_type": "markdown",
   "metadata": {},
   "source": [
    "### How many type of Owner we have in Delhi & their shares"
   ]
  },
  {
   "cell_type": "code",
   "execution_count": 87,
   "metadata": {},
   "outputs": [
    {
     "name": "stdout",
     "output_type": "stream",
     "text": [
      "2\n"
     ]
    }
   ],
   "source": [
    "print(len(property_data['owner_type'].unique().tolist()))"
   ]
  },
  {
   "cell_type": "code",
   "execution_count": 88,
   "metadata": {},
   "outputs": [
    {
     "data": {
      "text/plain": [
       "ind_owner    285133\n",
       "ent_owner      4867\n",
       "Name: owner_type, dtype: int64"
      ]
     },
     "execution_count": 88,
     "metadata": {},
     "output_type": "execute_result"
    }
   ],
   "source": [
    "property_data['owner_type'].value_counts()"
   ]
  },
  {
   "cell_type": "code",
   "execution_count": 89,
   "metadata": {},
   "outputs": [
    {
     "data": {
      "text/plain": [
       "<matplotlib.axes._subplots.AxesSubplot at 0x7f10149bf7b8>"
      ]
     },
     "execution_count": 89,
     "metadata": {},
     "output_type": "execute_result"
    },
    {
     "data": {
      "image/png": "[encoded data removed]",
      "text/plain": [
       "<Figure size 432x288 with 1 Axes>"
      ]
     },
     "metadata": {
      "needs_background": "light"
     },
     "output_type": "display_data"
    }
   ],
   "source": [
    "plt.suptitle('Countplot of Owner type in DElHI NCR', fontsize=12)\n",
    "plt.xlabel('Owner_type',fontsize=10)\n",
    "plt.tick_params(axis='both', which='major', colors='black', labelsize=10)\n",
    "sns.countplot(x=\"owner_type\",data=property_data)"
   ]
  },
  {
   "cell_type": "code",
   "execution_count": 91,
   "metadata": {},
   "outputs": [
    {
     "data": {
      "text/plain": [
       "ward                                                     zone            \n",
       "Adarsh nagar ward                                        Civil Lines Zone      209\n",
       "Ajmeri gate ward                                         City - S P Zone      2377\n",
       "Alipur ward                                              Narela Zone            48\n",
       "Aman puri, najafgarh roadaman puri, najafgarh road ward  Rohini Zone             9\n",
       "Amar colony ward                                         Central Zone         3538\n",
       "                                                                             ...  \n",
       "Vivek vihar ward                                         Sh. South Zone       4978\n",
       "West gorakh park ward                                    Sh. North Zone       1228\n",
       "West patel nagar ward                                    Karol Bagh Zone       326\n",
       "West vinod nagar ward                                    Sh. South Zone         78\n",
       "chandni chowk ward                                                           23849\n",
       "Length: 202, dtype: int64"
      ]
     },
     "execution_count": 91,
     "metadata": {},
     "output_type": "execute_result"
    }
   ],
   "source": [
    "group_by_carrier.size()"
   ]
  },
  {
   "cell_type": "markdown",
   "metadata": {},
   "source": [
    "# \"SECOND TABLE\""
   ]
  },
  {
   "cell_type": "code",
   "execution_count": 92,
   "metadata": {},
   "outputs": [
    {
     "data": {
      "text/html": [
       "<div>\n",
       "<style scoped>\n",
       "    .dataframe tbody tr th:only-of-type {\n",
       "        vertical-align: middle;\n",
       "    }\n",
       "\n",
       "    .dataframe tbody tr th {\n",
       "        vertical-align: top;\n",
       "    }\n",
       "\n",
       "    .dataframe thead th {\n",
       "        text-align: right;\n",
       "    }\n",
       "</style>\n",
       "<table border=\"1\" class=\"dataframe\">\n",
       "  <thead>\n",
       "    <tr style=\"text-align: right;\">\n",
       "      <th></th>\n",
       "      <th>receipt_no</th>\n",
       "      <th>prop_id</th>\n",
       "      <th>fin_year</th>\n",
       "      <th>pay_mode</th>\n",
       "      <th>date</th>\n",
       "      <th>amount_paid</th>\n",
       "    </tr>\n",
       "  </thead>\n",
       "  <tbody>\n",
       "    <tr>\n",
       "      <th>0</th>\n",
       "      <td>NaN</td>\n",
       "      <td>147746111050</td>\n",
       "      <td>2008-09</td>\n",
       "      <td>Na</td>\n",
       "      <td>NaN</td>\n",
       "      <td>NaN</td>\n",
       "    </tr>\n",
       "    <tr>\n",
       "      <th>1</th>\n",
       "      <td>NaN</td>\n",
       "      <td>147746111050</td>\n",
       "      <td>2009-10</td>\n",
       "      <td>Na</td>\n",
       "      <td>NaN</td>\n",
       "      <td>NaN</td>\n",
       "    </tr>\n",
       "  </tbody>\n",
       "</table>\n",
       "</div>"
      ],
      "text/plain": [
       "   receipt_no       prop_id fin_year pay_mode date  amount_paid\n",
       "0         NaN  147746111050  2008-09       Na  NaN          NaN\n",
       "1         NaN  147746111050  2009-10       Na  NaN          NaN"
      ]
     },
     "execution_count": 92,
     "metadata": {},
     "output_type": "execute_result"
    }
   ],
   "source": [
    "propert_ta=pd.read_csv('file1.csv')\n",
    "propert_ta.head(2)"
   ]
  },
  {
   "cell_type": "code",
   "execution_count": 93,
   "metadata": {},
   "outputs": [
    {
     "data": {
      "text/html": [
       "<div>\n",
       "<style scoped>\n",
       "    .dataframe tbody tr th:only-of-type {\n",
       "        vertical-align: middle;\n",
       "    }\n",
       "\n",
       "    .dataframe tbody tr th {\n",
       "        vertical-align: top;\n",
       "    }\n",
       "\n",
       "    .dataframe thead th {\n",
       "        text-align: right;\n",
       "    }\n",
       "</style>\n",
       "<table border=\"1\" class=\"dataframe\">\n",
       "  <thead>\n",
       "    <tr style=\"text-align: right;\">\n",
       "      <th></th>\n",
       "      <th>receipt_no</th>\n",
       "      <th>prop_id</th>\n",
       "      <th>fin_year</th>\n",
       "      <th>pay_mode</th>\n",
       "      <th>date</th>\n",
       "      <th>amount_paid</th>\n",
       "    </tr>\n",
       "  </thead>\n",
       "  <tbody>\n",
       "    <tr>\n",
       "      <th>0</th>\n",
       "      <td>NaN</td>\n",
       "      <td>147746111050</td>\n",
       "      <td>2008-09</td>\n",
       "      <td>Na</td>\n",
       "      <td>NaN</td>\n",
       "      <td>NaN</td>\n",
       "    </tr>\n",
       "    <tr>\n",
       "      <th>1</th>\n",
       "      <td>NaN</td>\n",
       "      <td>147746111050</td>\n",
       "      <td>2009-10</td>\n",
       "      <td>Na</td>\n",
       "      <td>NaN</td>\n",
       "      <td>NaN</td>\n",
       "    </tr>\n",
       "    <tr>\n",
       "      <th>2</th>\n",
       "      <td>NaN</td>\n",
       "      <td>147746111050</td>\n",
       "      <td>2010-11</td>\n",
       "      <td>Na</td>\n",
       "      <td>NaN</td>\n",
       "      <td>NaN</td>\n",
       "    </tr>\n",
       "    <tr>\n",
       "      <th>3</th>\n",
       "      <td>NaN</td>\n",
       "      <td>147746111050</td>\n",
       "      <td>2011-12</td>\n",
       "      <td>Na</td>\n",
       "      <td>NaN</td>\n",
       "      <td>NaN</td>\n",
       "    </tr>\n",
       "    <tr>\n",
       "      <th>4</th>\n",
       "      <td>NaN</td>\n",
       "      <td>147746111050</td>\n",
       "      <td>2012-13</td>\n",
       "      <td>Na</td>\n",
       "      <td>NaN</td>\n",
       "      <td>NaN</td>\n",
       "    </tr>\n",
       "  </tbody>\n",
       "</table>\n",
       "</div>"
      ],
      "text/plain": [
       "   receipt_no       prop_id fin_year pay_mode date  amount_paid\n",
       "0         NaN  147746111050  2008-09       Na  NaN          NaN\n",
       "1         NaN  147746111050  2009-10       Na  NaN          NaN\n",
       "2         NaN  147746111050  2010-11       Na  NaN          NaN\n",
       "3         NaN  147746111050  2011-12       Na  NaN          NaN\n",
       "4         NaN  147746111050  2012-13       Na  NaN          NaN"
      ]
     },
     "execution_count": 93,
     "metadata": {},
     "output_type": "execute_result"
    }
   ],
   "source": [
    "property_tax= propert_ta.copy(deep=True)\n",
    "property_tax.head()"
   ]
  },
  {
   "cell_type": "markdown",
   "metadata": {},
   "source": [
    "###  Shape of the DataSet"
   ]
  },
  {
   "cell_type": "code",
   "execution_count": 94,
   "metadata": {},
   "outputs": [
    {
     "data": {
      "text/plain": [
       "(290000, 6)"
      ]
     },
     "execution_count": 94,
     "metadata": {},
     "output_type": "execute_result"
    }
   ],
   "source": [
    "property_tax[fin_year].shape"
   ]
  },
  {
   "cell_type": "code",
   "execution_count": 95,
   "metadata": {},
   "outputs": [
    {
     "name": "stdout",
     "output_type": "stream",
     "text": [
      "<class 'pandas.core.frame.DataFrame'>\n",
      "RangeIndex: 290000 entries, 0 to 289999\n",
      "Data columns (total 6 columns):\n",
      "receipt_no     61143 non-null float64\n",
      "prop_id        290000 non-null int64\n",
      "fin_year       290000 non-null object\n",
      "pay_mode       290000 non-null object\n",
      "date           61137 non-null object\n",
      "amount_paid    61143 non-null float64\n",
      "dtypes: float64(2), int64(1), object(3)\n",
      "memory usage: 13.3+ MB\n"
     ]
    }
   ],
   "source": [
    "property_tax.info()"
   ]
  },
  {
   "cell_type": "code",
   "execution_count": 96,
   "metadata": {},
   "outputs": [
    {
     "data": {
      "text/plain": [
       "receipt_no     228857\n",
       "prop_id             0\n",
       "fin_year            0\n",
       "pay_mode            0\n",
       "date           228863\n",
       "amount_paid    228857\n",
       "dtype: int64"
      ]
     },
     "execution_count": 96,
     "metadata": {},
     "output_type": "execute_result"
    }
   ],
   "source": [
    "property_tax.isnull().sum()[:20]"
   ]
  },
  {
   "cell_type": "code",
   "execution_count": null,
   "metadata": {},
   "outputs": [],
   "source": []
  }
 ],
 "metadata": {
  "kernelspec": {
   "display_name": "Python 3",
   "language": "python",
   "name": "python3"
  },
  "language_info": {
   "codemirror_mode": {
    "name": "ipython",
    "version": 3
   },
   "file_extension": ".py",
   "mimetype": "text/x-python",
   "name": "python",
   "nbconvert_exporter": "python",
   "pygments_lexer": "ipython3",
   "version": "3.6.9"
  }
 },
 "nbformat": 4,
 "nbformat_minor": 2
}
